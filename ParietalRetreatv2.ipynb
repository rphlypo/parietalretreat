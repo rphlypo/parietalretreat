{
 "metadata": {
  "name": "",
  "signature": "sha256:d254dba72e561b7916d939c4ce6ef34570d921d29111b74433dba6823d9db05b"
 },
 "nbformat": 3,
 "nbformat_minor": 0,
 "worksheets": [
  {
   "cells": [
    {
     "cell_type": "code",
     "collapsed": false,
     "input": [
      "import classify_covs\n",
      "import show_connectomes\n",
      "import covariance\n",
      "import matplotlib.pyplot as plt\n",
      "from sklearn.covariance import EmpiricalCovariance, LedoitWolf\n",
      "import itertools\n",
      "from pval_correction import correct\n",
      "#%matplotlib inline"
     ],
     "language": "python",
     "metadata": {},
     "outputs": [],
     "prompt_number": 1
    },
    {
     "cell_type": "code",
     "collapsed": false,
     "input": [
      "def plot_results(t_df, p_th=.05, estim_title=None):\n",
      "    if estim_title is not None:\n",
      "        estim_title = \" ({})\".format(estim_title)\n",
      "        for ix_ in range(len(t_df)):\n",
      "            tstats = covariance.vec_to_sym(t_df[\"tstat\"].iloc[ix_])\n",
      "            pvals = covariance.vec_to_sym(t_df[\"pval\"].iloc[ix_])\n",
      "            tstats[pvals > p_th] = 0.\n",
      "            title = t_df[\"comparison\"].iloc[ix_] + estim_title\n",
      "            show_connectomes.plot_adjacency(tstats, n_clusters=1,\n",
      "                                            title=title,\n",
      "                                            vmin=None, vmax=None, col_map=\"red_blue_r\",\n",
      "                                            fig_name=\"/home/storage/workspace/parietal_retreat/covariance_learn/figures2/\" +\n",
      "                                            title + \".pdf\")"
     ],
     "language": "python",
     "metadata": {},
     "outputs": [],
     "prompt_number": 2
    },
    {
     "cell_type": "code",
     "collapsed": false,
     "input": [
      "base_estimators = [EmpiricalCovariance(assume_centered=True),\n",
      "                   LedoitWolf(assume_centered=True)]\n",
      "estimators_ = list(itertools.product([\"tangent\", \"precision\", \"correlation\"], base_estimators))\n",
      "est = ('kind', 'cov_estimator')\n",
      "estimators = [dict(zip(*[est, e])) for e in estimators_]\n",
      "t_test = list()\n",
      "for est_ in estimators:\n",
      "    t_test.append(classify_covs.statistical_test(root_dir=\"/home/storage/workspace/brainpedia/preproc\", estimators=est_))\n",
      "    plot_results(t_test[-1], estim_title=est_[\"kind\"] + \" \" + format(est_[\"cov_estimator\"]).split(\"(\")[0])"
     ],
     "language": "python",
     "metadata": {},
     "outputs": [
      {
       "output_type": "stream",
       "stream": "stdout",
       "text": [
        "Objects vs. Words: t_stat = [ 0.91764613 -0.06636609  4.64139514 ..., -2.59033748 -1.40697717\n",
        "  1.77842725], p-val = [ 0.95384967  0.99434572  0.0074003  ...,  0.43661081  0.91758984\n",
        "  0.81564386]\n",
        "Scrambled objects vs. Words: t_stat = [ 0.15608331  0.15348487  4.77063888 ..., -1.63574081 -1.47946296\n",
        " -0.01707452], p-val = [ 0.99661071  0.99661071  0.03091855 ...,  0.84741255  0.88610113\n",
        "  0.9991173 ]"
       ]
      },
      {
       "output_type": "stream",
       "stream": "stdout",
       "text": [
        "\n",
        "Scrambled objects vs. Objects: t_stat = [-0.81356438  0.23521586 -0.54634599 ...,  1.00168243  0.44736596\n",
        " -3.81802119], p-val = [ 0.93310429  0.983797    0.9620275  ...,  0.92708284  0.97021111\n",
        "  0.16321588]"
       ]
      },
      {
       "output_type": "stream",
       "stream": "stdout",
       "text": [
        "\n",
        "Consonant strings vs. Words: t_stat = [-2.16621892 -0.11899045  0.56427791 ..., -0.80638899 -0.20944606\n",
        " -0.88863693], p-val = [ 0.88302646  0.99989594  0.98243301 ...,  0.98243301  0.99400349\n",
        "  0.98243301]"
       ]
      },
      {
       "output_type": "stream",
       "stream": "stdout",
       "text": [
        "\n",
        "Consonant strings vs. Objects: t_stat = [-3.72309837 -0.07299489 -4.04711275 ...,  1.27438171  1.86524189\n",
        " -5.39759596], p-val = [ 0.03898008  0.99890378  0.01900427 ...,  0.93253308  0.75623186\n",
        "  0.00119663]"
       ]
      },
      {
       "output_type": "stream",
       "stream": "stdout",
       "text": [
        "\n",
        "Consonant strings vs. Scrambled objects: t_stat = [-2.12245785 -0.24679916 -2.80574682 ...,  0.45951151  1.07047936\n",
        " -1.64422045], p-val = [ 0.85891556  0.98866986  0.61752855 ...,  0.98627882  0.95138909\n",
        "  0.90683498]"
       ]
      },
      {
       "output_type": "stream",
       "stream": "stdout",
       "text": [
        "\n",
        "Objects vs. Words: t_stat = [-8.16092629  3.69193846 -5.62627616 ..., -2.90692114  1.14824999\n",
        " -2.01422619], p-val = [  5.86355037e-07   1.13083204e-01   6.17601165e-04 ...,   4.02811159e-01\n",
        "   9.00521459e-01   7.55013318e-01]"
       ]
      },
      {
       "output_type": "stream",
       "stream": "stdout",
       "text": [
        "\n",
        "Scrambled objects vs. Words: t_stat = [-3.34837337  1.39921203  0.08198974 ..., -1.92132918 -0.52912655\n",
        " -1.29534491], p-val = [ 0.46215471  0.9311514   0.99521593 ...,  0.88313292  0.9672925\n",
        "  0.93743491]"
       ]
      },
      {
       "output_type": "stream",
       "stream": "stdout",
       "text": [
        "\n",
        "Scrambled objects vs. Objects: t_stat = [ 5.81969242 -2.90826552  6.89636909 ...,  0.93343754 -1.83899668\n",
        "  1.91303621], p-val = [  3.66399309e-04   3.41003621e-01   1.64535878e-05 ...,   9.02913892e-01\n",
        "   6.98940119e-01   6.76469648e-01]"
       ]
      },
      {
       "output_type": "stream",
       "stream": "stdout",
       "text": [
        "\n",
        "Consonant strings vs. Words: t_stat = [-3.3688864   0.07162311 -1.00904112 ..., -1.10683791  0.27458847\n",
        " -1.38435579], p-val = [ 0.4352552   0.99889139  0.99150442 ...,  0.99145525  0.99635072\n",
        "  0.98755265]"
       ]
      },
      {
       "output_type": "stream",
       "stream": "stdout",
       "text": [
        "\n",
        "Consonant strings vs. Objects: t_stat = [ 3.65640405 -4.27808323  5.64629999 ...,  1.2641789  -1.48003657\n",
        "  1.0126763 ], p-val = [  1.24351119e-01   2.97277155e-02   5.03936048e-04 ...,   8.98622695e-01\n",
        "   8.53683504e-01   9.27251999e-01]"
       ]
      },
      {
       "output_type": "stream",
       "stream": "stdout",
       "text": [
        "\n",
        "Consonant strings vs. Scrambled objects: t_stat = [-1.40965276 -1.07296336 -1.18974583 ...,  0.45555693  0.79135631\n",
        " -0.49126291], p-val = [ 0.94881853  0.9633894   0.96171424 ...,  0.97857829  0.97857829\n",
        "  0.97857829]"
       ]
      },
      {
       "output_type": "stream",
       "stream": "stdout",
       "text": [
        "\n",
        "Objects vs. Words: t_stat = [-5.26387023  3.29770889 -6.33955288 ...,  0.57711504  3.8757502\n",
        " -5.09694506], p-val = [  2.02570027e-04   7.45064038e-02   6.67249797e-06 ...,   9.54659225e-01\n",
        "   1.50008254e-02   3.45620976e-04]"
       ]
      },
      {
       "output_type": "stream",
       "stream": "stdout",
       "text": [
        "\n",
        "Scrambled objects vs. Words: t_stat = [-3.65726365  1.35733558 -4.03079252 ..., -0.09800902  2.20776093\n",
        " -2.82960029], p-val = [ 0.04987702  0.87184378  0.02245621 ...,  0.9953268   0.62481984\n",
        "  0.2699837 ]"
       ]
      },
      {
       "output_type": "stream",
       "stream": "stdout",
       "text": [
        "\n",
        "Scrambled objects vs. Objects: t_stat = [ 3.27294867 -1.67904705  3.99297349 ..., -0.83606692 -2.90546608\n",
        "  4.80836418], p-val = [ 0.09205317  0.77260198  0.01647421 ...,  0.9180385   0.19965228\n",
        "  0.00256644]"
       ]
      },
      {
       "output_type": "stream",
       "stream": "stdout",
       "text": [
        "\n",
        "Consonant strings vs. Words: t_stat = [ 0.33036338 -0.57502396  0.03064943 ..., -0.29561406  0.41429407\n",
        " -0.24262739], p-val = [ 0.98089746  0.9756894   0.99848575 ...,  0.98396859  0.97881629\n",
        "  0.98643741]"
       ]
      },
      {
       "output_type": "stream",
       "stream": "stdout",
       "text": [
        "\n",
        "Consonant strings vs. Objects: t_stat = [ 4.79277214 -3.59319704  5.69879427 ..., -0.96387662 -4.59001306\n",
        "  7.1926632 ], p-val = [  7.80788440e-04   2.97802814e-02   4.14347162e-05 ...,   8.87763071e-01\n",
        "   1.50794212e-03   4.03566903e-07]"
       ]
      },
      {
       "output_type": "stream",
       "stream": "stdout",
       "text": [
        "\n",
        "Consonant strings vs. Scrambled objects: t_stat = [ 2.21177418 -1.6931359   2.86951249 ..., -0.27861804 -1.3906688\n",
        "  1.80496909], p-val = [ 0.70979092  0.83069463  0.43752978 ...,  0.98212552  0.87071796\n",
        "  0.8241801 ]"
       ]
      },
      {
       "output_type": "stream",
       "stream": "stdout",
       "text": [
        "\n",
        "Objects vs. Words: t_stat = [ 5.54679188 -4.47543916  4.05610384 ...,  1.50156866 -2.38047973\n",
        "  2.47720605], p-val = [ 0.00095044  0.02268019  0.05309721 ...,  0.80445603  0.52727124\n",
        "  0.49866812]"
       ]
      },
      {
       "output_type": "stream",
       "stream": "stdout",
       "text": [
        "\n",
        "Scrambled objects vs. Words: t_stat = [ 2.99156724 -2.88399032  0.64166162 ...,  0.91501742 -0.20780255\n",
        "  1.08815584], p-val = [ 0.5578003   0.59360647  0.98097872 ...,  0.98097872  0.9875983\n",
        "  0.95988216]"
       ]
      },
      {
       "output_type": "stream",
       "stream": "stdout",
       "text": [
        "\n",
        "Scrambled objects vs. Objects: t_stat = [-5.06255155  3.55105902 -4.42373489 ..., -0.64705885  2.67462177\n",
        " -2.81956145], p-val = [ 0.00303226  0.11760625  0.01989556 ...,  0.93120902  0.43873229\n",
        "  0.36455914]"
       ]
      },
      {
       "output_type": "stream",
       "stream": "stdout",
       "text": [
        "\n",
        "Consonant strings vs. Words: t_stat = [ 2.86705433 -1.56579447  1.51373862 ...,  0.47255905 -0.61721857\n",
        "  1.07092515], p-val = [ 0.78831357  0.9684825   0.9684825  ...,  0.97060584  0.9684825   0.9684825 ]"
       ]
      },
      {
       "output_type": "stream",
       "stream": "stdout",
       "text": [
        "\n",
        "Consonant strings vs. Objects: t_stat = [-4.74467351  5.61136066 -5.34368955 ..., -0.91388732  1.84291094\n",
        " -1.23807692], p-val = [  6.84878845e-03   7.74229461e-04   1.28179136e-03 ...,   9.26632302e-01\n",
        "   7.53600611e-01   8.98257586e-01]"
       ]
      },
      {
       "output_type": "stream",
       "stream": "stdout",
       "text": [
        "\n",
        "Consonant strings vs. Scrambled objects: t_stat = [ 1.54285097  0.1996674   1.47311291 ..., -0.28361729 -0.52939869\n",
        "  0.64404793], p-val = [ 0.91747907  0.99062686  0.91747907 ...,  0.98946973  0.97128996\n",
        "  0.97128996]"
       ]
      },
      {
       "output_type": "stream",
       "stream": "stdout",
       "text": [
        "\n",
        "Objects vs. Words: t_stat = [ 1.          1.          1.         ..., -2.60200995  1.          1.        ], p-val = [ 0.92890044  0.92890044  0.92890044 ...,  0.92890044  0.92890044\n",
        "  0.92890044]"
       ]
      },
      {
       "output_type": "stream",
       "stream": "stdout",
       "text": [
        "\n",
        "Scrambled objects vs. Words: t_stat = [ 1.          1.          1.         ..., -1.95815569  1.          1.        ], p-val = [ 0.70641037  0.70641037  0.70641037 ...,  0.44028342  0.70641037\n",
        "  0.70641037]"
       ]
      },
      {
       "output_type": "stream",
       "stream": "stdout",
       "text": [
        "\n",
        "Scrambled objects vs. Objects: t_stat = [ 1.          1.          1.         ...,  0.85025639  1.          1.        ], p-val = [ 0.6292437   0.6292437   0.6292437  ...,  0.69079674  0.6292437   0.6292437 ]"
       ]
      },
      {
       "output_type": "stream",
       "stream": "stdout",
       "text": [
        "\n",
        "Consonant strings vs. Words: t_stat = [ 1.          1.          1.         ..., -1.17603301  1.          1.        ], p-val = [ 0.90844202  0.90844202  0.90844202 ...,  0.90844202  0.90844202\n",
        "  0.90844202]"
       ]
      },
      {
       "output_type": "stream",
       "stream": "stdout",
       "text": [
        "\n",
        "Consonant strings vs. Objects: t_stat = [ 1.          1.          1.         ...,  1.23525119  1.          1.        ], p-val = [ 0.86413455  0.86413455  0.86413455 ...,  0.86413455  0.86413455\n",
        "  0.86413455]"
       ]
      },
      {
       "output_type": "stream",
       "stream": "stdout",
       "text": [
        "\n",
        "Consonant strings vs. Scrambled objects: t_stat = [ 1.          1.          1.         ...,  0.35818316  1.          1.        ], p-val = [ 0.6971129   0.6971129   0.6971129  ...,  0.91955603  0.6971129   0.6971129 ]"
       ]
      },
      {
       "output_type": "stream",
       "stream": "stdout",
       "text": [
        "\n",
        "Objects vs. Words: t_stat = [ 1.          1.          1.         ..., -2.62451153  1.          1.        ], p-val = [ 0.81341258  0.81341258  0.81341258 ...,  0.68383036  0.81341258\n",
        "  0.81341258]"
       ]
      },
      {
       "output_type": "stream",
       "stream": "stdout",
       "text": [
        "\n",
        "Scrambled objects vs. Words: t_stat = [ 1.          1.          1.         ..., -2.01711377  1.          1.        ], p-val = [ 0.76670491  0.76670491  0.76670491 ...,  0.48421514  0.76670491\n",
        "  0.76670491]"
       ]
      },
      {
       "output_type": "stream",
       "stream": "stdout",
       "text": [
        "\n",
        "Scrambled objects vs. Objects: t_stat = [ 1.          1.          1.         ...,  0.80063518  1.          1.        ], p-val = [ 0.54583233  0.54583233  0.54583233 ...,  0.63990133  0.54583233\n",
        "  0.54583233]"
       ]
      },
      {
       "output_type": "stream",
       "stream": "stdout",
       "text": [
        "\n",
        "Consonant strings vs. Words: t_stat = [ 1.          1.          1.         ..., -1.26871483  1.          1.        ], p-val = [ 0.93546579  0.93546579  0.93546579 ...,  0.93546579  0.93546579\n",
        "  0.93546579]"
       ]
      },
      {
       "output_type": "stream",
       "stream": "stdout",
       "text": [
        "\n",
        "Consonant strings vs. Objects: t_stat = [ 1.          1.          1.         ...,  1.19244256  1.          1.        ], p-val = [ 0.72934027  0.72934027  0.72934027 ...,  0.72934027  0.72934027\n",
        "  0.72934027]"
       ]
      },
      {
       "output_type": "stream",
       "stream": "stdout",
       "text": [
        "\n",
        "Consonant strings vs. Scrambled objects: t_stat = [ 1.          1.          1.         ...,  0.34507803  1.          1.        ], p-val = [ 0.73128737  0.73128737  0.73128737 ...,  0.92771293  0.73128737\n",
        "  0.73128737]"
       ]
      },
      {
       "output_type": "stream",
       "stream": "stdout",
       "text": [
        "\n"
       ]
      }
     ],
     "prompt_number": 3
    }
   ],
   "metadata": {}
  }
 ]
}