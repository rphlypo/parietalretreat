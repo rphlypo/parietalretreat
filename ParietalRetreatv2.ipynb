{
 "metadata": {
  "name": "",
  "signature": "sha256:7d1b26feb547894e424c45b8f3e80fb0917f07a81d4ddbd71afb7bf6ec74f619"
 },
 "nbformat": 3,
 "nbformat_minor": 0,
 "worksheets": [
  {
   "cells": [
    {
     "cell_type": "code",
     "collapsed": false,
     "input": [
      "import classify_covs\n",
      "import show_connectomes\n",
      "reload(show_connectomes)\n",
      "import covariance\n",
      "import matplotlib.pyplot as plt\n",
      "from sklearn.covariance import EmpiricalCovariance, LedoitWolf\n",
      "import itertools\n",
      "from pval_correction import correct\n",
      "#%matplotlib inline"
     ],
     "language": "python",
     "metadata": {},
     "outputs": [
      {
       "ename": "ImportError",
       "evalue": "No module named nipy.labs.viz_tools",
       "output_type": "pyerr",
       "traceback": [
        "\u001b[1;31m---------------------------------------------------------------------------\u001b[0m\n\u001b[1;31mImportError\u001b[0m                               Traceback (most recent call last)",
        "\u001b[1;32m<ipython-input-2-e856c97a4424>\u001b[0m in \u001b[0;36m<module>\u001b[1;34m()\u001b[0m\n\u001b[0;32m      1\u001b[0m \u001b[1;32mimport\u001b[0m \u001b[0mclassify_covs\u001b[0m\u001b[1;33m\u001b[0m\u001b[0m\n\u001b[1;32m----> 2\u001b[1;33m \u001b[1;32mimport\u001b[0m \u001b[0mshow_connectomes\u001b[0m\u001b[1;33m\u001b[0m\u001b[0m\n\u001b[0m\u001b[0;32m      3\u001b[0m \u001b[0mreload\u001b[0m\u001b[1;33m(\u001b[0m\u001b[0mshow_connectomes\u001b[0m\u001b[1;33m)\u001b[0m\u001b[1;33m\u001b[0m\u001b[0m\n\u001b[0;32m      4\u001b[0m \u001b[1;32mimport\u001b[0m \u001b[0mcovariance\u001b[0m\u001b[1;33m\u001b[0m\u001b[0m\n\u001b[0;32m      5\u001b[0m \u001b[1;32mimport\u001b[0m \u001b[0mmatplotlib\u001b[0m\u001b[1;33m.\u001b[0m\u001b[0mpyplot\u001b[0m \u001b[1;32mas\u001b[0m \u001b[0mplt\u001b[0m\u001b[1;33m\u001b[0m\u001b[0m\n",
        "\u001b[1;32m/home/sb238920/CODE/Parietal/retreat/parietalretreat/show_connectomes.py\u001b[0m in \u001b[0;36m<module>\u001b[1;34m()\u001b[0m\n\u001b[0;32m      4\u001b[0m \u001b[1;32mimport\u001b[0m \u001b[0mnumpy\u001b[0m \u001b[1;32mas\u001b[0m \u001b[0mnp\u001b[0m\u001b[1;33m\u001b[0m\u001b[0m\n\u001b[0;32m      5\u001b[0m \u001b[1;32mfrom\u001b[0m \u001b[0mmayavi\u001b[0m \u001b[1;32mimport\u001b[0m \u001b[0mmlab\u001b[0m\u001b[1;33m\u001b[0m\u001b[0m\n\u001b[1;32m----> 6\u001b[1;33m \u001b[1;32mfrom\u001b[0m \u001b[0mnipy\u001b[0m\u001b[1;33m.\u001b[0m\u001b[0mlabs\u001b[0m\u001b[1;33m.\u001b[0m\u001b[0mviz_tools\u001b[0m \u001b[1;32mimport\u001b[0m \u001b[0mmaps_3d\u001b[0m\u001b[1;33m\u001b[0m\u001b[0m\n\u001b[0m\u001b[0;32m      7\u001b[0m \u001b[1;32mimport\u001b[0m \u001b[0mjoblib\u001b[0m\u001b[1;33m\u001b[0m\u001b[0m\n\u001b[0;32m      8\u001b[0m \u001b[1;31m# Major scientific library imports\u001b[0m\u001b[1;33m\u001b[0m\u001b[1;33m\u001b[0m\u001b[0m\n",
        "\u001b[1;31mImportError\u001b[0m: No module named nipy.labs.viz_tools"
       ]
      }
     ],
     "prompt_number": 2
    },
    {
     "cell_type": "code",
     "collapsed": false,
     "input": [
      "def plot_results(t_df, p_th=.05, estim_title=None):\n",
      "    if estim_title is not None:\n",
      "        estim_title = \" ({})\".format(estim_title)\n",
      "        for ix_ in range(len(t_df)):\n",
      "            tstats = covariance.vec_to_sym(t_df[\"tstat\"].iloc[ix_])\n",
      "            pvals = covariance.vec_to_sym(t_df[\"pval\"].iloc[ix_])\n",
      "            tstats[pvals > p_th] = 0.\n",
      "            title = t_df[\"comparison\"].iloc[ix_] + estim_title\n",
      "            show_connectomes.plot_adjacency(tstats, n_clusters=1,\n",
      "                                            title=title,\n",
      "                                            vmin=None, vmax=None, col_map=\"red_blue_r\",\n",
      "                                            fig_name=\"/home/storage/workspace/parietal_retreat/covariance_learn/figures3/\" +\n",
      "                                            title + \".pdf\")"
     ],
     "language": "python",
     "metadata": {},
     "outputs": [],
     "prompt_number": 3
    },
    {
     "cell_type": "code",
     "collapsed": false,
     "input": [
      "base_estimators = [EmpiricalCovariance(assume_centered=True),\n",
      "                   LedoitWolf(assume_centered=True)]\n",
      "estimators_ = list(itertools.product([\"tangent\", \"precision\", \"correlation\"], base_estimators))\n",
      "est = ('kind', 'cov_estimator')\n",
      "estimators = [dict(zip(*[est, e])) for e in estimators_]\n",
      "t_test = list()\n",
      "root_dir = \"/home/storage/workspace/brainpedia/preproc\"\n",
      "data_set = \"ds107\"\n",
      "df = get_data(root_dir=root_dir, data_set=data_set)\n",
      "conditions = _get_conditions(root_dir=root_dir, data_set=data_set)\n",
      "for est_ in estimators:\n",
      "    t_test.append(classify_covs.statistical_test(df, conditions,\n",
      "                                                 estimators=est_, p_correction=None))\n",
      "    #plot_results(t_test[-1], estim_title=est_[\"kind\"] + \" \" + format(est_[\"cov_estimator\"]).split(\"(\")[0])"
     ],
     "language": "python",
     "metadata": {},
     "outputs": [
      {
       "ename": "NameError",
       "evalue": "name 'EmpiricalCovariance' is not defined",
       "output_type": "pyerr",
       "traceback": [
        "\u001b[1;31m---------------------------------------------------------------------------\u001b[0m\n\u001b[1;31mNameError\u001b[0m                                 Traceback (most recent call last)",
        "\u001b[1;32m<ipython-input-4-92694073e37e>\u001b[0m in \u001b[0;36m<module>\u001b[1;34m()\u001b[0m\n\u001b[1;32m----> 1\u001b[1;33m base_estimators = [EmpiricalCovariance(assume_centered=True),\n\u001b[0m\u001b[0;32m      2\u001b[0m                    LedoitWolf(assume_centered=True)]\n\u001b[0;32m      3\u001b[0m \u001b[0mestimators_\u001b[0m \u001b[1;33m=\u001b[0m \u001b[0mlist\u001b[0m\u001b[1;33m(\u001b[0m\u001b[0mitertools\u001b[0m\u001b[1;33m.\u001b[0m\u001b[0mproduct\u001b[0m\u001b[1;33m(\u001b[0m\u001b[1;33m[\u001b[0m\u001b[1;34m\"tangent\"\u001b[0m\u001b[1;33m,\u001b[0m \u001b[1;34m\"precision\"\u001b[0m\u001b[1;33m,\u001b[0m \u001b[1;34m\"correlation\"\u001b[0m\u001b[1;33m]\u001b[0m\u001b[1;33m,\u001b[0m \u001b[0mbase_estimators\u001b[0m\u001b[1;33m)\u001b[0m\u001b[1;33m)\u001b[0m\u001b[1;33m\u001b[0m\u001b[0m\n\u001b[0;32m      4\u001b[0m \u001b[0mest\u001b[0m \u001b[1;33m=\u001b[0m \u001b[1;33m(\u001b[0m\u001b[1;34m'kind'\u001b[0m\u001b[1;33m,\u001b[0m \u001b[1;34m'cov_estimator'\u001b[0m\u001b[1;33m)\u001b[0m\u001b[1;33m\u001b[0m\u001b[0m\n\u001b[0;32m      5\u001b[0m \u001b[0mestimators\u001b[0m \u001b[1;33m=\u001b[0m \u001b[1;33m[\u001b[0m\u001b[0mdict\u001b[0m\u001b[1;33m(\u001b[0m\u001b[0mzip\u001b[0m\u001b[1;33m(\u001b[0m\u001b[1;33m*\u001b[0m\u001b[1;33m[\u001b[0m\u001b[0mest\u001b[0m\u001b[1;33m,\u001b[0m \u001b[0me\u001b[0m\u001b[1;33m]\u001b[0m\u001b[1;33m)\u001b[0m\u001b[1;33m)\u001b[0m \u001b[1;32mfor\u001b[0m \u001b[0me\u001b[0m \u001b[1;32min\u001b[0m \u001b[0mestimators_\u001b[0m\u001b[1;33m]\u001b[0m\u001b[1;33m\u001b[0m\u001b[0m\n",
        "\u001b[1;31mNameError\u001b[0m: name 'EmpiricalCovariance' is not defined"
       ]
      }
     ],
     "prompt_number": 4
    },
    {
     "cell_type": "code",
     "collapsed": false,
     "input": [
      "estimators"
     ],
     "language": "python",
     "metadata": {},
     "outputs": [
      {
       "metadata": {},
       "output_type": "pyout",
       "prompt_number": 37,
       "text": [
        "[{'cov_estimator': EmpiricalCovariance(assume_centered=True, store_precision=True),\n",
        "  'kind': 'tangent'},\n",
        " {'cov_estimator': LedoitWolf(assume_centered=True, block_size=1000, store_precision=True),\n",
        "  'kind': 'tangent'},\n",
        " {'cov_estimator': EmpiricalCovariance(assume_centered=True, store_precision=True),\n",
        "  'kind': 'precision'},\n",
        " {'cov_estimator': LedoitWolf(assume_centered=True, block_size=1000, store_precision=True),\n",
        "  'kind': 'precision'},\n",
        " {'cov_estimator': EmpiricalCovariance(assume_centered=True, store_precision=True),\n",
        "  'kind': 'correlation'},\n",
        " {'cov_estimator': LedoitWolf(assume_centered=True, block_size=1000, store_precision=True),\n",
        "  'kind': 'correlation'}]"
       ]
      }
     ],
     "prompt_number": 37
    },
    {
     "cell_type": "code",
     "collapsed": false,
     "input": [
      "p = t_test[2][\"pval\"][4]"
     ],
     "language": "python",
     "metadata": {},
     "outputs": [],
     "prompt_number": 71
    },
    {
     "cell_type": "code",
     "collapsed": false,
     "input": [
      "import numpy as np\n",
      "from connectivity import vec_to_sym\n",
      "p_signif = p < 1e-8\n",
      "p_signif\n",
      "vec_to_sym(p_signif)[-5:-1,-5:-1]"
     ],
     "language": "python",
     "metadata": {},
     "outputs": [
      {
       "metadata": {},
       "output_type": "pyout",
       "prompt_number": 75,
       "text": [
        "array([[ 1.,  0.,  0.,  0.],\n",
        "       [ 0.,  0.,  0.,  0.],\n",
        "       [ 0.,  0.,  1.,  0.],\n",
        "       [ 0.,  0.,  0.,  1.]])"
       ]
      }
     ],
     "prompt_number": 75
    },
    {
     "cell_type": "code",
     "collapsed": false,
     "input": [
      "p = t_test[0][\"pval\"][4]\n",
      "p_signif = p < 1e-4\n",
      "p_signif\n",
      "vec_to_sym(p_signif)[-5:-1,-5:-1]"
     ],
     "language": "python",
     "metadata": {},
     "outputs": []
    },
    {
     "cell_type": "code",
     "collapsed": false,
     "input": [
      "t_test[2][\"pval\"][1]"
     ],
     "language": "python",
     "metadata": {},
     "outputs": [
      {
       "metadata": {},
       "output_type": "pyout",
       "prompt_number": 70,
       "text": [
        "array([  6.32032627e-04,   1.81022663e-01,   1.97745804e-04, ...,\n",
        "         9.22333264e-01,   3.20730115e-02,   6.78438410e-03])"
       ]
      }
     ],
     "prompt_number": 70
    },
    {
     "cell_type": "code",
     "collapsed": false,
     "input": [
      "t_test[1]"
     ],
     "language": "python",
     "metadata": {},
     "outputs": [
      {
       "html": [
        "<div style=\"max-height:1000px;max-width:1500px;overflow:auto;\">\n",
        "<table border=\"1\" class=\"dataframe\">\n",
        "  <thead>\n",
        "    <tr style=\"text-align: right;\">\n",
        "      <th></th>\n",
        "      <th>comparison</th>\n",
        "      <th>tstat</th>\n",
        "      <th>pval</th>\n",
        "    </tr>\n",
        "  </thead>\n",
        "  <tbody>\n",
        "    <tr>\n",
        "      <th>0</th>\n",
        "      <td>                       Objects vs. Words</td>\n",
        "      <td> [-8.16092629244, 3.69193845812, -5.62627615592...</td>\n",
        "      <td> [5.86355037478e-07, 2.64736050326, 0.004323208...</td>\n",
        "    </tr>\n",
        "    <tr>\n",
        "      <th>1</th>\n",
        "      <td>             Scrambled objects vs. Words</td>\n",
        "      <td> [-3.34837337145, 1.39921202833, 0.081989738469...</td>\n",
        "      <td> [7.39447538235, 783.039691728, 4353.34052054, ...</td>\n",
        "    </tr>\n",
        "    <tr>\n",
        "      <th>2</th>\n",
        "      <td>           Scrambled objects vs. Objects</td>\n",
        "      <td> [5.81969241626, -2.90826551666, 6.89636908598,...</td>\n",
        "      <td> [0.00219839585446, 25.560415086, 4.93607635003...</td>\n",
        "    </tr>\n",
        "    <tr>\n",
        "      <th>3</th>\n",
        "      <td>             Consonant strings vs. Words</td>\n",
        "      <td> [-3.36888639509, 0.0716231112463, -1.009041123...</td>\n",
        "      <td> [6.96408316814, 4391.53663162, 1480.67597699, ...</td>\n",
        "    </tr>\n",
        "    <tr>\n",
        "      <th>4</th>\n",
        "      <td>           Consonant strings vs. Objects</td>\n",
        "      <td> [3.6564040481, -4.27808322581, 5.64629998944, ...</td>\n",
        "      <td> [2.95045389405, 0.416188017241, 0.004031488381...</td>\n",
        "    </tr>\n",
        "    <tr>\n",
        "      <th>5</th>\n",
        "      <td> Consonant strings vs. Scrambled objects</td>\n",
        "      <td> [-1.409652764, -1.07296336341, -1.18974582934,...</td>\n",
        "      <td> [768.653757421, 1343.96535408, 1117.43076266, ...</td>\n",
        "    </tr>\n",
        "  </tbody>\n",
        "</table>\n",
        "<p>6 rows \u00d7 3 columns</p>\n",
        "</div>"
       ],
       "metadata": {},
       "output_type": "pyout",
       "prompt_number": 33,
       "text": [
        "                                comparison  \\\n",
        "0                        Objects vs. Words   \n",
        "1              Scrambled objects vs. Words   \n",
        "2            Scrambled objects vs. Objects   \n",
        "3              Consonant strings vs. Words   \n",
        "4            Consonant strings vs. Objects   \n",
        "5  Consonant strings vs. Scrambled objects   \n",
        "\n",
        "                                               tstat  \\\n",
        "0  [-8.16092629244, 3.69193845812, -5.62627615592...   \n",
        "1  [-3.34837337145, 1.39921202833, 0.081989738469...   \n",
        "2  [5.81969241626, -2.90826551666, 6.89636908598,...   \n",
        "3  [-3.36888639509, 0.0716231112463, -1.009041123...   \n",
        "4  [3.6564040481, -4.27808322581, 5.64629998944, ...   \n",
        "5  [-1.409652764, -1.07296336341, -1.18974582934,...   \n",
        "\n",
        "                                                pval  \n",
        "0  [5.86355037478e-07, 2.64736050326, 0.004323208...  \n",
        "1  [7.39447538235, 783.039691728, 4353.34052054, ...  \n",
        "2  [0.00219839585446, 25.560415086, 4.93607635003...  \n",
        "3  [6.96408316814, 4391.53663162, 1480.67597699, ...  \n",
        "4  [2.95045389405, 0.416188017241, 0.004031488381...  \n",
        "5  [768.653757421, 1343.96535408, 1117.43076266, ...  \n",
        "\n",
        "[6 rows x 3 columns]"
       ]
      }
     ],
     "prompt_number": 33
    }
   ],
   "metadata": {}
  }
 ]
}