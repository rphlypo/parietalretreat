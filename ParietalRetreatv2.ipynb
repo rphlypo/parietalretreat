{
 "metadata": {
  "name": "",
  "signature": "sha256:7d1b26feb547894e424c45b8f3e80fb0917f07a81d4ddbd71afb7bf6ec74f619"
 },
 "nbformat": 3,
 "nbformat_minor": 0,
 "worksheets": [
  {
   "cells": [
    {
     "cell_type": "code",
     "collapsed": false,
     "input": [
      "import classify_covs\n",
      "import show_connectomes\n",
      "reload(show_connectomes)\n",
      "import covariance\n",
      "import matplotlib.pyplot as plt\n",
      "from sklearn.covariance import EmpiricalCovariance, LedoitWolf\n",
      "import itertools\n",
      "from pval_correction import correct\n",
      "#%matplotlib inline"
     ],
     "language": "python",
     "metadata": {},
     "outputs": [],
     "prompt_number": 6
    },
    {
     "cell_type": "code",
     "collapsed": false,
     "input": [
      "def plot_results(t_df, p_th=.05, estim_title=None):\n",
      "    if estim_title is not None:\n",
      "        estim_title = \" ({})\".format(estim_title)\n",
      "        for ix_ in range(len(t_df)):\n",
      "            tstats = covariance.vec_to_sym(t_df[\"tstat\"].iloc[ix_])\n",
      "            pvals = covariance.vec_to_sym(t_df[\"pval\"].iloc[ix_])\n",
      "            tstats[pvals > p_th] = 0.\n",
      "            title = t_df[\"comparison\"].iloc[ix_] + estim_title\n",
      "            show_connectomes.plot_adjacency(tstats, n_clusters=1,\n",
      "                                            title=title,\n",
      "                                            vmin=None, vmax=None, col_map=\"red_blue_r\",\n",
      "                                            fig_name=\"/home/storage/workspace/parietal_retreat/covariance_learn/figures3/\" +\n",
      "                                            title + \".pdf\")"
     ],
     "language": "python",
     "metadata": {},
     "outputs": [],
     "prompt_number": 9
    },
    {
     "cell_type": "code",
     "collapsed": false,
     "input": [
      "base_estimators = [EmpiricalCovariance(assume_centered=True),\n",
      "                   LedoitWolf(assume_centered=True)]\n",
      "estimators_ = list(itertools.product([\"tangent\", \"precision\", \"correlation\"], base_estimators))\n",
      "est = ('kind', 'cov_estimator')\n",
      "estimators = [dict(zip(*[est, e])) for e in estimators_]\n",
      "t_test = list()\n",
      "for est_ in estimators:\n",
      "    t_test.append(classify_covs.statistical_test(root_dir=\"/home/storage/workspace/brainpedia/preproc\",\n",
      "                                                 estimators=est_, p_correction=None))\n",
      "    #plot_results(t_test[-1], estim_title=est_[\"kind\"] + \" \" + format(est_[\"cov_estimator\"]).split(\"(\")[0])"
     ],
     "language": "python",
     "metadata": {},
     "outputs": [
      {
       "output_type": "stream",
       "stream": "stdout",
       "text": [
        "Objects vs. Words: t_stat = [ 0.91764613 -0.06636609  4.64139514 ..., -2.59033748 -1.40697717\n",
        "  1.77842725], q-val = [  3.63392189e-01   9.47362029e-01   2.70200003e-05 ...,   1.26594630e-02\n",
        "   1.65876432e-01   8.16677123e-02]\n",
        "Scrambled objects vs. Words: t_stat = [ 0.15608331  0.15348487  4.77063888 ..., -1.63574081 -1.47946296\n",
        " -0.01707452], q-val = [  8.76621961e-01   8.78659382e-01   1.75244637e-05 ...,   1.08435373e-01\n",
        "   1.45550189e-01   9.86447946e-01]"
       ]
      },
      {
       "output_type": "stream",
       "stream": "stdout",
       "text": [
        "\n",
        "Scrambled objects vs. Objects: t_stat = [-0.81356438  0.23521586 -0.54634599 ...,  1.00168243  0.44736596\n",
        " -3.81802119], q-val = [  4.19912061e-01   8.15041817e-01   5.87358837e-01 ...,   3.21520105e-01\n",
        "   6.56623223e-01   3.85604520e-04]"
       ]
      },
      {
       "output_type": "stream",
       "stream": "stdout",
       "text": [
        "\n",
        "Consonant strings vs. Words: t_stat = [-2.16621892 -0.11899045  0.56427791 ..., -0.80638899 -0.20944606\n",
        " -0.88863693], q-val = [ 0.03529105  0.90577953  0.57519242 ...,  0.42399599  0.83498644\n",
        "  0.37862996]"
       ]
      },
      {
       "output_type": "stream",
       "stream": "stdout",
       "text": [
        "\n",
        "Consonant strings vs. Objects: t_stat = [-3.72309837 -0.07299489 -4.04711275 ...,  1.27438171  1.86524189\n",
        " -5.39759596], q-val = [  5.16834569e-04   9.42113514e-01   1.87756941e-04 ...,   2.08663462e-01\n",
        "   6.82663691e-02   2.05607044e-06]"
       ]
      },
      {
       "output_type": "stream",
       "stream": "stdout",
       "text": [
        "\n",
        "Consonant strings vs. Scrambled objects: t_stat = [-2.12245785 -0.24679916 -2.80574682 ...,  0.45951151  1.07047936\n",
        " -1.64422045], q-val = [ 0.03898511  0.80611616  0.00722966 ...,  0.64794135  0.28975699\n",
        "  0.10666539]"
       ]
      },
      {
       "output_type": "stream",
       "stream": "stdout",
       "text": [
        "\n",
        "Objects vs. Words: t_stat = [-8.16092629  3.69193846 -5.62627616 ..., -2.90692114  1.14824999\n",
        " -2.01422619], q-val = [  1.25935360e-10   5.68591173e-04   9.28524089e-07 ...,   5.50982779e-03\n",
        "   2.56555775e-01   4.96081906e-02]"
       ]
      },
      {
       "output_type": "stream",
       "stream": "stdout",
       "text": [
        "\n",
        "Scrambled objects vs. Words: t_stat = [-3.34837337  1.39921203  0.08198974 ..., -1.92132918 -0.52912655\n",
        " -1.29534491], q-val = [ 0.00158816  0.16817863  0.93499582 ...,  0.0606392   0.59915627\n",
        "  0.20139667]"
       ]
      },
      {
       "output_type": "stream",
       "stream": "stdout",
       "text": [
        "\n",
        "Scrambled objects vs. Objects: t_stat = [ 5.81969242 -2.90826552  6.89636909 ...,  0.93343754 -1.83899668\n",
        "  1.91303621], q-val = [  4.72164058e-07   5.48977987e-03   1.06015386e-08 ...,   3.55266061e-01\n",
        "   7.21060115e-02   6.17189143e-02]"
       ]
      },
      {
       "output_type": "stream",
       "stream": "stdout",
       "text": [
        "\n",
        "Consonant strings vs. Words: t_stat = [-3.3688864   0.07162311 -1.00904112 ..., -1.10683791  0.27458847\n",
        " -1.38435579], q-val = [ 0.00149572  0.94319945  0.3180146  ...,  0.27388024  0.78481082\n",
        "  0.17265203]"
       ]
      },
      {
       "output_type": "stream",
       "stream": "stdout",
       "text": [
        "\n",
        "Consonant strings vs. Objects: t_stat = [ 3.65640405 -4.27808323  5.64629999 ...,  1.2641789  -1.48003657\n",
        "  1.0126763 ], q-val = [  6.33688551e-04   8.93874607e-05   8.65869498e-07 ...,   2.12270357e-01\n",
        "   1.45397555e-01   3.16292454e-01]"
       ]
      },
      {
       "output_type": "stream",
       "stream": "stdout",
       "text": [
        "\n",
        "Consonant strings vs. Scrambled objects: t_stat = [-1.40965276 -1.07296336 -1.18974583 ...,  0.45555693  0.79135631\n",
        " -0.49126291], q-val = [ 0.16508887  0.28865235  0.23999802 ...,  0.65076282  0.43262927\n",
        "  0.62547935]"
       ]
      },
      {
       "output_type": "stream",
       "stream": "stdout",
       "text": [
        "\n",
        "Objects vs. Words: t_stat = [-5.26387023  3.29770889 -6.33955288 ...,  0.57711504  3.8757502\n",
        " -5.09694506], q-val = [  3.26363184e-06   1.84025697e-03   7.57885351e-08 ...,   5.66558838e-01\n",
        "   3.22182676e-04   5.79004212e-06]"
       ]
      },
      {
       "output_type": "stream",
       "stream": "stdout",
       "text": [
        "\n",
        "Scrambled objects vs. Words: t_stat = [-3.65726365  1.35733558 -4.03079252 ..., -0.09800902  2.20776093\n",
        " -2.82960029], q-val = [  6.32032627e-04   1.81022663e-01   1.97745804e-04 ...,   9.22333264e-01\n",
        "   3.20730115e-02   6.78438410e-03]"
       ]
      },
      {
       "output_type": "stream",
       "stream": "stdout",
       "text": [
        "\n",
        "Scrambled objects vs. Objects: t_stat = [ 3.27294867 -1.67904705  3.99297349 ..., -0.83606692 -2.90546608\n",
        "  4.80836418], q-val = [  1.97683251e-03   9.96420689e-02   2.22911375e-04 ...,   4.07260082e-01\n",
        "   5.53160317e-03   1.54338966e-05]"
       ]
      },
      {
       "output_type": "stream",
       "stream": "stdout",
       "text": [
        "\n",
        "Consonant strings vs. Words: t_stat = [ 0.33036338 -0.57502396  0.03064943 ..., -0.29561406  0.41429407\n",
        " -0.24262739], q-val = [ 0.74256307  0.56796081  0.97567621 ...,  0.76879991  0.68050437\n",
        "  0.80932784]"
       ]
      },
      {
       "output_type": "stream",
       "stream": "stdout",
       "text": [
        "\n",
        "Consonant strings vs. Objects: t_stat = [ 4.79277214 -3.59319704  5.69879427 ..., -0.96387662 -4.59001306\n",
        "  7.1926632 ], q-val = [  1.62664258e-05   7.67533026e-04   7.20835913e-07 ...,   3.39938864e-01\n",
        "   3.20632022e-05   3.72709984e-09]"
       ]
      },
      {
       "output_type": "stream",
       "stream": "stdout",
       "text": [
        "\n",
        "Consonant strings vs. Scrambled objects: t_stat = [ 2.21177418 -1.6931359   2.86951249 ..., -0.27861804 -1.3906688\n",
        "  1.80496909], q-val = [ 0.0317763   0.09691104  0.00609577 ...,  0.78173479  0.17074001\n",
        "  0.07735434]"
       ]
      },
      {
       "output_type": "stream",
       "stream": "stdout",
       "text": [
        "\n",
        "Objects vs. Words: t_stat = [ 5.54679188 -4.47543916  4.05610384 ...,  1.50156866 -2.38047973\n",
        "  2.47720605], q-val = [  1.22479883e-06   4.68575664e-05   1.82464632e-04 ...,   1.39758873e-01\n",
        "   2.13082550e-02   1.68150547e-02]"
       ]
      },
      {
       "output_type": "stream",
       "stream": "stdout",
       "text": [
        "\n",
        "Scrambled objects vs. Words: t_stat = [ 2.99156724 -2.88399032  0.64166162 ...,  0.91501742 -0.20780255\n",
        "  1.08815584], q-val = [ 0.00437209  0.00586245  0.52414541 ...,  0.36475646  0.83626232\n",
        "  0.28195998]"
       ]
      },
      {
       "output_type": "stream",
       "stream": "stdout",
       "text": [
        "\n",
        "Scrambled objects vs. Objects: t_stat = [-5.06255155  3.55105902 -4.42373489 ..., -0.64705885  2.67462177\n",
        " -2.81956145], q-val = [  6.51259461e-06   8.71372320e-04   5.55503236e-05 ...,   5.20676394e-01\n",
        "   1.01983434e-02   6.96859180e-03]"
       ]
      },
      {
       "output_type": "stream",
       "stream": "stdout",
       "text": [
        "\n",
        "Consonant strings vs. Words: t_stat = [ 2.86705433 -1.56579447  1.51373862 ...,  0.47255905 -0.61721857\n",
        "  1.07092515], q-val = [ 0.00613623  0.12396637  0.13664949 ...,  0.63866945  0.54000759\n",
        "  0.28955853]"
       ]
      },
      {
       "output_type": "stream",
       "stream": "stdout",
       "text": [
        "\n",
        "Consonant strings vs. Objects: t_stat = [-4.74467351  5.61136066 -5.34368955 ..., -0.91388732  1.84291094\n",
        " -1.23807692], q-val = [  1.91224763e-05   9.78099341e-07   2.47768949e-06 ...,   3.65343987e-01\n",
        "   7.15220330e-02   2.21709016e-01]"
       ]
      },
      {
       "output_type": "stream",
       "stream": "stdout",
       "text": [
        "\n",
        "Consonant strings vs. Scrambled objects: t_stat = [ 1.54285097  0.1996674   1.47311291 ..., -0.28361729 -0.52939869\n",
        "  0.64404793], q-val = [ 0.12943468  0.84258419  0.14724838 ...,  0.77792344  0.59896896\n",
        "  0.52261013]"
       ]
      },
      {
       "output_type": "stream",
       "stream": "stdout",
       "text": [
        "\n",
        "Objects vs. Words: t_stat = [-0.26366729  0.75432921 -1.59628518 ..., -2.52765403 -1.2518838\n",
        " -1.22855831], q-val = [ 0.79316498  0.4543365   0.11698874 ...,  0.01482915  0.21667839\n",
        "  0.22522711]"
       ]
      },
      {
       "output_type": "stream",
       "stream": "stdout",
       "text": [
        "\n",
        "Scrambled objects vs. Words: t_stat = [-1.18415419 -0.52382261 -2.69016775 ..., -1.98129254 -1.30254879\n",
        " -0.18711211], q-val = [ 0.24218282  0.60281231  0.0097955  ...,  0.0533025   0.19894393\n",
        "  0.8523614 ]"
       ]
      },
      {
       "output_type": "stream",
       "stream": "stdout",
       "text": [
        "\n",
        "Scrambled objects vs. Objects: t_stat = [-0.83142596 -1.45674635 -1.14785683 ...,  0.76667838  0.63963548\n",
        "  0.82939622], q-val = [ 0.40985009  0.15169734  0.25671648 ...,  0.44702723  0.52545084  0.410986  ]"
       ]
      },
      {
       "output_type": "stream",
       "stream": "stdout",
       "text": [
        "\n",
        "Consonant strings vs. Words: t_stat = [ 0.         -0.20231593 -1.3346857  ..., -1.16876548 -0.14260919\n",
        " -0.28729298], q-val = [ 1.          0.84052483  0.18827594 ...,  0.24827     0.88719579\n",
        "  0.77512466]"
       ]
      },
      {
       "output_type": "stream",
       "stream": "stdout",
       "text": [
        "\n",
        "Consonant strings vs. Objects: t_stat = [ 0.29002095 -1.07090563  0.09311563 ...,  1.19824295  1.92581561\n",
        "  0.84074781], q-val = [ 0.77304944  0.28956722  0.92619928 ...,  0.23670546  0.06006184\n",
        "  0.40465802]"
       ]
      },
      {
       "output_type": "stream",
       "stream": "stdout",
       "text": [
        "\n",
        "Consonant strings vs. Scrambled objects: t_stat = [ 1.4230617   0.20189204  1.13926292 ...,  0.39442258  0.74699388\n",
        " -0.09569122], q-val = [ 0.16118558  0.84085435  0.26024719 ...,  0.69501612  0.45871087\n",
        "  0.9241642 ]"
       ]
      },
      {
       "output_type": "stream",
       "stream": "stdout",
       "text": [
        "\n",
        "Objects vs. Words: t_stat = [ 0.1086518   3.24325613 -0.4927117  ..., -2.56502269  0.28352683\n",
        " -0.75946895], q-val = [ 0.91393161  0.00215327  0.62446271 ...,  0.01349823  0.77799236\n",
        "  0.45128596]"
       ]
      },
      {
       "output_type": "stream",
       "stream": "stdout",
       "text": [
        "\n",
        "Scrambled objects vs. Words: t_stat = [ 0.84882528  0.49713354 -0.50686632 ..., -2.03765581 -0.58202853\n",
        " -0.15955387], q-val = [ 0.40019202  0.62136443  0.6145693  ...,  0.04711674  0.56327133\n",
        "  0.87390202]"
       ]
      },
      {
       "output_type": "stream",
       "stream": "stdout",
       "text": [
        "\n",
        "Scrambled objects vs. Objects: t_stat = [ 0.81537886 -3.36870021  0.         ...,  0.73002237 -0.83907258\n",
        "  0.60213636], q-val = [ 0.41888313  0.00149654  1.         ...,  0.4689245   0.40558808\n",
        "  0.54991732]"
       ]
      },
      {
       "output_type": "stream",
       "stream": "stdout",
       "text": [
        "\n",
        "Consonant strings vs. Words: t_stat = [ 0.51832106  0.3641794   0.08648101 ..., -1.25169254  0.01880855\n",
        " -0.82939622], q-val = [ 0.60661548  0.71732344  0.9314438  ...,  0.2167475   0.9850718   0.410986  ]"
       ]
      },
      {
       "output_type": "stream",
       "stream": "stdout",
       "text": [
        "\n",
        "Consonant strings vs. Objects: t_stat = [ 0.47955518 -3.6726513   0.5814019  ...,  1.16269391 -0.45361923\n",
        " -0.09150978], q-val = [  6.33721606e-01   6.03083098e-04   5.63690063e-01 ...,   2.50701815e-01\n",
        "   6.52147198e-01   9.27468372e-01]"
       ]
      },
      {
       "output_type": "stream",
       "stream": "stdout",
       "text": [
        "\n",
        "Consonant strings vs. Scrambled objects: t_stat = [-0.37463432  0.01260204  0.59408853 ...,  0.38213878  0.47455598\n",
        " -0.64326752], q-val = [ 0.70958255  0.98999753  0.55524269 ...,  0.70404516  0.63725547\n",
        "  0.52311196]"
       ]
      },
      {
       "output_type": "stream",
       "stream": "stdout",
       "text": [
        "\n"
       ]
      }
     ],
     "prompt_number": 34
    },
    {
     "cell_type": "code",
     "collapsed": false,
     "input": [
      "estimators"
     ],
     "language": "python",
     "metadata": {},
     "outputs": [
      {
       "metadata": {},
       "output_type": "pyout",
       "prompt_number": 37,
       "text": [
        "[{'cov_estimator': EmpiricalCovariance(assume_centered=True, store_precision=True),\n",
        "  'kind': 'tangent'},\n",
        " {'cov_estimator': LedoitWolf(assume_centered=True, block_size=1000, store_precision=True),\n",
        "  'kind': 'tangent'},\n",
        " {'cov_estimator': EmpiricalCovariance(assume_centered=True, store_precision=True),\n",
        "  'kind': 'precision'},\n",
        " {'cov_estimator': LedoitWolf(assume_centered=True, block_size=1000, store_precision=True),\n",
        "  'kind': 'precision'},\n",
        " {'cov_estimator': EmpiricalCovariance(assume_centered=True, store_precision=True),\n",
        "  'kind': 'correlation'},\n",
        " {'cov_estimator': LedoitWolf(assume_centered=True, block_size=1000, store_precision=True),\n",
        "  'kind': 'correlation'}]"
       ]
      }
     ],
     "prompt_number": 37
    },
    {
     "cell_type": "code",
     "collapsed": false,
     "input": [
      "p = t_test[2][\"pval\"][4]"
     ],
     "language": "python",
     "metadata": {},
     "outputs": [],
     "prompt_number": 71
    },
    {
     "cell_type": "code",
     "collapsed": false,
     "input": [
      "import numpy as np\n",
      "from connectivity import vec_to_sym\n",
      "p_signif = p < 1e-8\n",
      "p_signif\n",
      "vec_to_sym(p_signif)[-5:-1,-5:-1]"
     ],
     "language": "python",
     "metadata": {},
     "outputs": [
      {
       "metadata": {},
       "output_type": "pyout",
       "prompt_number": 75,
       "text": [
        "array([[ 1.,  0.,  0.,  0.],\n",
        "       [ 0.,  0.,  0.,  0.],\n",
        "       [ 0.,  0.,  1.,  0.],\n",
        "       [ 0.,  0.,  0.,  1.]])"
       ]
      }
     ],
     "prompt_number": 75
    },
    {
     "cell_type": "code",
     "collapsed": false,
     "input": [
      "p = t_test[0][\"pval\"][4]\n",
      "p_signif = p < 1e-4\n",
      "p_signif\n",
      "vec_to_sym(p_signif)[-5:-1,-5:-1]"
     ],
     "language": "python",
     "metadata": {},
     "outputs": []
    },
    {
     "cell_type": "code",
     "collapsed": false,
     "input": [
      "t_test[2][\"pval\"][1]"
     ],
     "language": "python",
     "metadata": {},
     "outputs": [
      {
       "metadata": {},
       "output_type": "pyout",
       "prompt_number": 70,
       "text": [
        "array([  6.32032627e-04,   1.81022663e-01,   1.97745804e-04, ...,\n",
        "         9.22333264e-01,   3.20730115e-02,   6.78438410e-03])"
       ]
      }
     ],
     "prompt_number": 70
    },
    {
     "cell_type": "code",
     "collapsed": false,
     "input": [
      "t_test[1]"
     ],
     "language": "python",
     "metadata": {},
     "outputs": [
      {
       "html": [
        "<div style=\"max-height:1000px;max-width:1500px;overflow:auto;\">\n",
        "<table border=\"1\" class=\"dataframe\">\n",
        "  <thead>\n",
        "    <tr style=\"text-align: right;\">\n",
        "      <th></th>\n",
        "      <th>comparison</th>\n",
        "      <th>tstat</th>\n",
        "      <th>pval</th>\n",
        "    </tr>\n",
        "  </thead>\n",
        "  <tbody>\n",
        "    <tr>\n",
        "      <th>0</th>\n",
        "      <td>                       Objects vs. Words</td>\n",
        "      <td> [-8.16092629244, 3.69193845812, -5.62627615592...</td>\n",
        "      <td> [5.86355037478e-07, 2.64736050326, 0.004323208...</td>\n",
        "    </tr>\n",
        "    <tr>\n",
        "      <th>1</th>\n",
        "      <td>             Scrambled objects vs. Words</td>\n",
        "      <td> [-3.34837337145, 1.39921202833, 0.081989738469...</td>\n",
        "      <td> [7.39447538235, 783.039691728, 4353.34052054, ...</td>\n",
        "    </tr>\n",
        "    <tr>\n",
        "      <th>2</th>\n",
        "      <td>           Scrambled objects vs. Objects</td>\n",
        "      <td> [5.81969241626, -2.90826551666, 6.89636908598,...</td>\n",
        "      <td> [0.00219839585446, 25.560415086, 4.93607635003...</td>\n",
        "    </tr>\n",
        "    <tr>\n",
        "      <th>3</th>\n",
        "      <td>             Consonant strings vs. Words</td>\n",
        "      <td> [-3.36888639509, 0.0716231112463, -1.009041123...</td>\n",
        "      <td> [6.96408316814, 4391.53663162, 1480.67597699, ...</td>\n",
        "    </tr>\n",
        "    <tr>\n",
        "      <th>4</th>\n",
        "      <td>           Consonant strings vs. Objects</td>\n",
        "      <td> [3.6564040481, -4.27808322581, 5.64629998944, ...</td>\n",
        "      <td> [2.95045389405, 0.416188017241, 0.004031488381...</td>\n",
        "    </tr>\n",
        "    <tr>\n",
        "      <th>5</th>\n",
        "      <td> Consonant strings vs. Scrambled objects</td>\n",
        "      <td> [-1.409652764, -1.07296336341, -1.18974582934,...</td>\n",
        "      <td> [768.653757421, 1343.96535408, 1117.43076266, ...</td>\n",
        "    </tr>\n",
        "  </tbody>\n",
        "</table>\n",
        "<p>6 rows \u00d7 3 columns</p>\n",
        "</div>"
       ],
       "metadata": {},
       "output_type": "pyout",
       "prompt_number": 33,
       "text": [
        "                                comparison  \\\n",
        "0                        Objects vs. Words   \n",
        "1              Scrambled objects vs. Words   \n",
        "2            Scrambled objects vs. Objects   \n",
        "3              Consonant strings vs. Words   \n",
        "4            Consonant strings vs. Objects   \n",
        "5  Consonant strings vs. Scrambled objects   \n",
        "\n",
        "                                               tstat  \\\n",
        "0  [-8.16092629244, 3.69193845812, -5.62627615592...   \n",
        "1  [-3.34837337145, 1.39921202833, 0.081989738469...   \n",
        "2  [5.81969241626, -2.90826551666, 6.89636908598,...   \n",
        "3  [-3.36888639509, 0.0716231112463, -1.009041123...   \n",
        "4  [3.6564040481, -4.27808322581, 5.64629998944, ...   \n",
        "5  [-1.409652764, -1.07296336341, -1.18974582934,...   \n",
        "\n",
        "                                                pval  \n",
        "0  [5.86355037478e-07, 2.64736050326, 0.004323208...  \n",
        "1  [7.39447538235, 783.039691728, 4353.34052054, ...  \n",
        "2  [0.00219839585446, 25.560415086, 4.93607635003...  \n",
        "3  [6.96408316814, 4391.53663162, 1480.67597699, ...  \n",
        "4  [2.95045389405, 0.416188017241, 0.004031488381...  \n",
        "5  [768.653757421, 1343.96535408, 1117.43076266, ...  \n",
        "\n",
        "[6 rows x 3 columns]"
       ]
      }
     ],
     "prompt_number": 33
    }
   ],
   "metadata": {}
  }
 ]
}