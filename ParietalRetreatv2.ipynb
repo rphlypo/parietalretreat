{
 "metadata": {
  "name": "",
  "signature": "sha256:1c77a23b79e3708fbf950925fae91625e18f18ef1dd5662fed77506f96df799b"
 },
 "nbformat": 3,
 "nbformat_minor": 0,
 "worksheets": [
  {
   "cells": [
    {
     "cell_type": "code",
     "collapsed": false,
     "input": [
      "import classify_covs\n",
      "import show_connectomes\n",
      "reload(show_connectomes)\n",
      "import covariance\n",
      "import matplotlib.pyplot as plt\n",
      "from sklearn.covariance import EmpiricalCovariance, LedoitWolf\n",
      "import itertools\n",
      "from pval_correction import correct\n",
      "#%matplotlib inline"
     ],
     "language": "python",
     "metadata": {},
     "outputs": [],
     "prompt_number": 6
    },
    {
     "cell_type": "code",
     "collapsed": false,
     "input": [
      "def plot_results(t_df, p_th=.05, estim_title=None):\n",
      "    if estim_title is not None:\n",
      "        estim_title = \" ({})\".format(estim_title)\n",
      "        for ix_ in range(len(t_df)):\n",
      "            tstats = covariance.vec_to_sym(t_df[\"tstat\"].iloc[ix_])\n",
      "            pvals = covariance.vec_to_sym(t_df[\"pval\"].iloc[ix_])\n",
      "            tstats[pvals > p_th] = 0.\n",
      "            title = t_df[\"comparison\"].iloc[ix_] + estim_title\n",
      "            show_connectomes.plot_adjacency(tstats, n_clusters=1,\n",
      "                                            title=title,\n",
      "                                            vmin=None, vmax=None, col_map=\"red_blue_r\",\n",
      "                                            fig_name=\"/home/storage/workspace/parietal_retreat/covariance_learn/figures3/\" +\n",
      "                                            title + \".pdf\")"
     ],
     "language": "python",
     "metadata": {},
     "outputs": [],
     "prompt_number": 9
    },
    {
     "cell_type": "code",
     "collapsed": false,
     "input": [
      "base_estimators = [EmpiricalCovariance(assume_centered=True),\n",
      "                   LedoitWolf(assume_centered=True)]\n",
      "estimators_ = list(itertools.product([\"tangent\", \"precision\", \"correlation\"], base_estimators))\n",
      "est = ('kind', 'cov_estimator')\n",
      "estimators = [dict(zip(*[est, e])) for e in estimators_]\n",
      "t_test = list()\n",
      "for est_ in estimators:\n",
      "    t_test.append(classify_covs.statistical_test(root_dir=\"/home/storage/workspace/brainpedia/preproc\",\n",
      "                                                 estimators=est_, p_correction=\"bonferroni\"))\n",
      "    plot_results(t_test[-1], estim_title=est_[\"kind\"] + \" \" + format(est_[\"cov_estimator\"]).split(\"(\")[0])"
     ],
     "language": "python",
     "metadata": {},
     "outputs": [
      {
       "output_type": "stream",
       "stream": "stdout",
       "text": [
        "Objects vs. Words: t_stat = [ 0.91764613 -0.06636609  4.64139514 ..., -2.59033748 -1.40697717\n",
        "  1.77842725], q-val = [  1.69195403e+03   4.41091761e+03   1.25805121e-01 ...,   5.89424596e+01\n",
        "   7.72320666e+02   3.80244868e+02]\n",
        "Scrambled objects vs. Words: t_stat = [ 0.15608331  0.15348487  4.77063888 ..., -1.63574081 -1.47946296\n",
        " -0.01707452], q-val = [  4.08155185e+03   4.09103808e+03   8.15939029e-02 ...,   5.04875098e+02\n",
        "   6.77681680e+02   4.59290164e+03]"
       ]
      },
      {
       "output_type": "stream",
       "stream": "stdout",
       "text": [
        "\n",
        "Scrambled objects vs. Objects: t_stat = [-0.81356438  0.23521586 -0.54634599 ...,  1.00168243  0.44736596\n",
        " -3.81802119], q-val = [  1.95511056e+03   3.79483470e+03   2.73474274e+03 ...,   1.49699761e+03\n",
        "   3.05723773e+03   1.79537465e+00]"
       ]
      },
      {
       "output_type": "stream",
       "stream": "stdout",
       "text": [
        "\n",
        "Consonant strings vs. Words: t_stat = [-2.16621892 -0.11899045  0.56427791 ..., -0.80638899 -0.20944606\n",
        " -0.88863693], q-val = [  164.31513749  4217.30948219  2678.09589734 ...,  1974.12532681\n",
        "  3887.69688654  1762.90111113]"
       ]
      },
      {
       "output_type": "stream",
       "stream": "stdout",
       "text": [
        "\n",
        "Consonant strings vs. Objects: t_stat = [-3.72309837 -0.07299489 -4.04711275 ...,  1.27438171  1.86524189\n",
        " -5.39759596], q-val = [  2.40638175e+00   4.38648052e+03   8.74196319e-01 ...,   9.71537078e+02\n",
        "   3.17848215e+02   9.57306397e-03]"
       ]
      },
      {
       "output_type": "stream",
       "stream": "stdout",
       "text": [
        "\n",
        "Consonant strings vs. Scrambled objects: t_stat = [-2.12245785 -0.24679916 -2.80574682 ...,  0.45951151  1.07047936\n",
        " -1.64422045], q-val = [  181.51468716  3753.27683979    33.66131187 ...,  3016.81490657\n",
        "  1349.10855086   496.63405437]"
       ]
      },
      {
       "output_type": "stream",
       "stream": "stdout",
       "text": [
        "\n",
        "Objects vs. Words: t_stat = [-8.16092629  3.69193846 -5.62627616 ..., -2.90692114  1.14824999\n",
        " -2.01422619], q-val = [  5.86355037e-07   2.64736050e+00   4.32320816e-03 ...,   2.56537582e+01\n",
        "   1.19452369e+03   2.30975736e+02]"
       ]
      },
      {
       "output_type": "stream",
       "stream": "stdout",
       "text": [
        "\n",
        "Scrambled objects vs. Words: t_stat = [-3.34837337  1.39921203  0.08198974 ..., -1.92132918 -0.52912655\n",
        " -1.29534491], q-val = [    7.39447538   783.03969173  4353.34052054 ...,   282.33611423\n",
        "  2789.67158096   937.70289986]"
       ]
      },
      {
       "output_type": "stream",
       "stream": "stdout",
       "text": [
        "\n",
        "Scrambled objects vs. Objects: t_stat = [ 5.81969242 -2.90826552  6.89636909 ...,  0.93343754 -1.83899668\n",
        "  1.91303621], q-val = [  2.19839585e-03   2.55604151e+01   4.93607635e-05 ...,   1.65411878e+03\n",
        "   3.35725589e+02   2.87363265e+02]"
       ]
      },
      {
       "output_type": "stream",
       "stream": "stdout",
       "text": [
        "\n",
        "Consonant strings vs. Words: t_stat = [-3.3688864   0.07162311 -1.00904112 ..., -1.10683791  0.27458847\n",
        " -1.38435579], q-val = [    6.96408317  4391.53663162  1480.67597699 ...,  1275.18640267\n",
        "  3654.07919808   803.86785565]"
       ]
      },
      {
       "output_type": "stream",
       "stream": "stdout",
       "text": [
        "\n",
        "Consonant strings vs. Objects: t_stat = [ 3.65640405 -4.27808323  5.64629999 ...,  1.2641789  -1.48003657\n",
        "  1.0126763 ], q-val = [  2.95045389e+00   4.16188017e-01   4.03148838e-03 ...,   9.88330781e+02\n",
        "   6.76971018e+02   1.47265767e+03]"
       ]
      },
      {
       "output_type": "stream",
       "stream": "stdout",
       "text": [
        "\n",
        "Consonant strings vs. Scrambled objects: t_stat = [-1.40965276 -1.07296336 -1.18974583 ...,  0.45555693  0.79135631\n",
        " -0.49126291], q-val = [  768.65375742  1343.96535408  1117.43076266 ...,  3029.95167626\n",
        "  2014.32186259  2912.23184264]"
       ]
      },
      {
       "output_type": "stream",
       "stream": "stdout",
       "text": [
        "\n",
        "Objects vs. Words: t_stat = [-5.26387023  3.29770889 -6.33955288 ...,  0.57711504  3.8757502\n",
        " -5.09694506], q-val = [  1.51954699e-02   8.56823644e+00   3.52871420e-04 ...,   2.63789795e+03\n",
        "   1.50008254e+00   2.69584361e-02]"
       ]
      },
      {
       "output_type": "stream",
       "stream": "stdout",
       "text": [
        "\n",
        "Scrambled objects vs. Words: t_stat = [-3.65726365  1.35733558 -4.03079252 ..., -0.09800902  2.20776093\n",
        " -2.82960029], q-val = [  2.94274391e+00   8.42841518e+02   9.20704465e-01 ...,   4.29438368e+03\n",
        "   1.49331941e+02   3.15880924e+01]"
       ]
      },
      {
       "output_type": "stream",
       "stream": "stdout",
       "text": [
        "\n",
        "Scrambled objects vs. Objects: t_stat = [ 3.27294867 -1.67904705  3.99297349 ..., -0.83606692 -2.90546608\n",
        "  4.80836418], q-val = [  9.20413216e+00   4.63933473e+02   1.03787536e+00 ...,   1.89620294e+03\n",
        "   2.57551444e+01   7.18602227e-02]"
       ]
      },
      {
       "output_type": "stream",
       "stream": "stdout",
       "text": [
        "\n",
        "Consonant strings vs. Words: t_stat = [ 0.33036338 -0.57502396  0.03064943 ..., -0.29561406  0.41429407\n",
        " -0.24262739], q-val = [ 3457.37365779  2644.42551586  4542.74842391 ...,  3579.53237104\n",
        "  3168.42833635  3768.23040191]"
       ]
      },
      {
       "output_type": "stream",
       "stream": "stdout",
       "text": [
        "\n",
        "Consonant strings vs. Objects: t_stat = [ 4.79277214 -3.59319704  5.69879427 ..., -0.96387662 -4.59001306\n",
        "  7.1926632 ], q-val = [  7.57364787e-02   3.57363377e+00   3.35621201e-03 ...,   1.58275535e+03\n",
        "   1.49286269e-01   1.73533768e-05]"
       ]
      },
      {
       "output_type": "stream",
       "stream": "stdout",
       "text": [
        "\n",
        "Consonant strings vs. Scrambled objects: t_stat = [ 2.21177418 -1.6931359   2.86951249 ..., -0.27861804 -1.3906688\n",
        "  1.80496909], q-val = [  147.95047473   451.21778653    28.38189422 ...,  3639.75718946\n",
        "   794.96549737   360.16182529]"
       ]
      },
      {
       "output_type": "stream",
       "stream": "stdout",
       "text": [
        "\n",
        "Objects vs. Words: t_stat = [ 5.54679188 -4.47543916  4.05610384 ...,  1.50156866 -2.38047973\n",
        "  2.47720605], q-val = [  5.70266336e-03   2.18168829e-01   8.49555326e-01 ...,   6.50717312e+02\n",
        "   9.92112352e+01   7.82908947e+01]"
       ]
      },
      {
       "output_type": "stream",
       "stream": "stdout",
       "text": [
        "\n",
        "Scrambled objects vs. Words: t_stat = [ 2.99156724 -2.88399032  0.64166162 ...,  0.91501742 -0.20780255\n",
        "  1.08815584], q-val = [   20.35644958    27.2955569   2440.42103738 ...,  1698.30609438\n",
        "  3893.63735053  1312.80565624]"
       ]
      },
      {
       "output_type": "stream",
       "stream": "stdout",
       "text": [
        "\n",
        "Scrambled objects vs. Objects: t_stat = [-5.06255155  3.55105902 -4.42373489 ..., -0.64705885  2.67462177\n",
        " -2.81956145], q-val = [  3.03226405e-02   4.05710952e+00   2.58642307e-01 ...,   2.42426929e+03\n",
        "   4.74834869e+01   3.24457634e+01]"
       ]
      },
      {
       "output_type": "stream",
       "stream": "stdout",
       "text": [
        "\n",
        "Consonant strings vs. Words: t_stat = [ 2.86705433 -1.56579447  1.51373862 ...,  0.47255905 -0.61721857\n",
        "  1.07092515], q-val = [   28.57028203   577.18741955   636.24001611 ...,  2973.64496571\n",
        "  2514.27534528  1348.18453127]"
       ]
      },
      {
       "output_type": "stream",
       "stream": "stdout",
       "text": [
        "\n",
        "Consonant strings vs. Objects: t_stat = [-4.74467351  5.61136066 -5.34368955 ..., -0.91388732  1.84291094\n",
        " -1.23807692], q-val = [  8.90342498e-02   4.55403053e-03   1.15361222e-02 ...,   1.70104160e+03\n",
        "   3.33006586e+02   1.03227718e+03]"
       ]
      },
      {
       "output_type": "stream",
       "stream": "stdout",
       "text": [
        "\n",
        "Consonant strings vs. Scrambled objects: t_stat = [ 1.54285097  0.1996674   1.47311291 ..., -0.28361729 -0.52939869\n",
        "  0.64404793], q-val = [  602.64787182  3923.0719823    685.58846867 ...,  3622.01153361\n",
        "  2788.79946774  2433.27275042]"
       ]
      },
      {
       "output_type": "stream",
       "stream": "stdout",
       "text": [
        "\n",
        "Objects vs. Words: t_stat = [ 0.70907145  0.75432921 -1.42587956 ..., -2.52765403 -1.2518838\n",
        " -1.06752103], q-val = [ 2242.84240013  2115.39075129   746.70381197 ...,    69.04453361\n",
        "  1008.85460094  1355.25168514]"
       ]
      },
      {
       "output_type": "stream",
       "stream": "stdout",
       "text": [
        "\n",
        "Scrambled objects vs. Words: t_stat = [ 0.1086518  -0.52382261 -2.2754714  ..., -1.98129254 -1.30254879\n",
        " -0.09311563], q-val = [ 4255.26557614  2806.69410489   127.48925429 ...,   248.17645361\n",
        "   926.2829299   4312.38384903]"
       ]
      },
      {
       "output_type": "stream",
       "stream": "stdout",
       "text": [
        "\n",
        "Scrambled objects vs. Objects: t_stat = [-0.66057826 -1.45674635 -0.97071368 ...,  0.76667838  0.63963548\n",
        "  0.8678689 ], q-val = [ 2384.06180172   706.30282203  1567.01017804 ...,  2081.35879384\n",
        "  2446.49913391  1814.8364508 ]"
       ]
      },
      {
       "output_type": "stream",
       "stream": "stdout",
       "text": [
        "\n",
        "Consonant strings vs. Words: t_stat = [ 1.06486246 -0.20231593 -1.2711408  ..., -1.16876548 -0.14260919  0.        ], q-val = [ 1360.7888608   3913.48359316   976.84830766 ...,  1155.94513147\n",
        "  4130.78359221  4656.        ]"
       ]
      },
      {
       "output_type": "stream",
       "stream": "stdout",
       "text": [
        "\n",
        "Consonant strings vs. Objects: t_stat = [ 0.24673745 -1.07090563  0.         ...,  1.19824295  1.92581561\n",
        "  1.09326078], q-val = [ 3753.49792781  1348.22497187  4656.         ...,  1102.10061078\n",
        "   279.64794025  1302.44977873]"
       ]
      },
      {
       "output_type": "stream",
       "stream": "stdout",
       "text": [
        "\n",
        "Consonant strings vs. Scrambled objects: t_stat = [ 1.08016096  0.20189204  0.9112902  ...,  0.39442258  0.74699388\n",
        "  0.09849309], q-val = [ 1329.13957425  3915.01783754  1707.33890031 ...,  3235.99503208\n",
        "  2135.75780007  4292.60350556]"
       ]
      },
      {
       "output_type": "stream",
       "stream": "stdout",
       "text": [
        "\n",
        "Objects vs. Words: t_stat = [ 0.33877946  3.24325613 -0.87580617 ..., -2.56502269  0.28352683\n",
        " -1.09773445], q-val = [ 3427.99613128    10.02562141  1794.87510734 ...,    62.84776144\n",
        "  3622.33240489  1293.4216856 ]"
       ]
      },
      {
       "output_type": "stream",
       "stream": "stdout",
       "text": [
        "\n",
        "Scrambled objects vs. Words: t_stat = [ 1.1628038   0.49713354 -0.76007351 ..., -2.03765581 -0.58202853\n",
        "  0.08054961], q-val = [ 1167.06202792  2893.07280448  2099.52046668 ...,   219.37556013\n",
        "  2622.59129768  4358.6448162 ]"
       ]
      },
      {
       "output_type": "stream",
       "stream": "stdout",
       "text": [
        "\n",
        "Scrambled objects vs. Objects: t_stat = [ 1.0751981  -3.36870021  0.18711211 ...,  0.73002237 -0.83907258\n",
        "  1.31627995], q-val = [ 1339.34992886     6.96788028  3968.59468659 ...,  2183.31245986\n",
        "  1888.41812142   904.80651723]"
       ]
      },
      {
       "output_type": "stream",
       "stream": "stdout",
       "text": [
        "\n",
        "Consonant strings vs. Words: t_stat = [ 0.6377928   0.3641794  -0.16734595 ..., -1.25169254  0.01880855\n",
        " -0.51832106], q-val = [ 2452.03377899  3339.8579334   4040.48097517 ...,  1009.17635731\n",
        "  4586.49429104  2824.40166329]"
       ]
      },
      {
       "output_type": "stream",
       "stream": "stdout",
       "text": [
        "\n",
        "Consonant strings vs. Objects: t_stat = [ 0.40058461 -3.6726513   0.76007351 ...,  1.16269391 -0.45361923\n",
        "  0.52640356], q-val = [  3.21498407e+03   2.80795490e+00   2.09952047e+03 ...,   1.16726765e+03\n",
        "   3.03639735e+03   2.79840475e+03]"
       ]
      },
      {
       "output_type": "stream",
       "stream": "stdout",
       "text": [
        "\n",
        "Consonant strings vs. Scrambled objects: t_stat = [-0.70710678  0.01260204  0.60764362 ...,  0.38213878  0.47455598\n",
        " -0.66057826], q-val = [ 2248.47117325  4609.42849065  2543.51735516 ...,  3278.03424218\n",
        "  2967.06145103  2384.06180172]"
       ]
      },
      {
       "output_type": "stream",
       "stream": "stdout",
       "text": [
        "\n"
       ]
      }
     ],
     "prompt_number": 10
    }
   ],
   "metadata": {}
  }
 ]
}