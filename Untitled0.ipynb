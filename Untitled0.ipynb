{
 "metadata": {
  "name": "",
  "signature": "sha256:9bfe1a666bb862d543e8f20c40f829a6f8f0685c3fe34fa94bf519865700fa10"
 },
 "nbformat": 3,
 "nbformat_minor": 0,
 "worksheets": [
  {
   "cells": [
    {
     "cell_type": "code",
     "collapsed": false,
     "input": [
      "import classify_covs\n",
      "import show_connectomes\n",
      "import covariance\n",
      "import matplotlib.pyplot as plt\n",
      "from sklearn.covariance import EmpiricalCovariance, LedoitWolf\n",
      "import itertools\n",
      "from pval_correction import correct\n",
      "%matplotlib inline"
     ],
     "language": "python",
     "metadata": {},
     "outputs": [],
     "prompt_number": 1
    },
    {
     "cell_type": "code",
     "collapsed": false,
     "input": [
      "def plot_results(t_df, p_th=.05, estim_title=None):\n",
      "    # p-val at which to threshold\n",
      "    p_th = .05\n",
      "\n",
      "    if estim_title is not None:\n",
      "        estim_title = \" ({})\".format(estim_title)\n",
      "        for ix_ in range(len(t_df)):\n",
      "            tstats = covariance.vec_to_sym(t_df[\"tstat\"].iloc[ix_])\n",
      "            pvals = covariance.vec_to_sym(t_df[\"pval\"].iloc[ix_])\n",
      "            pvals = correct(pvals, \"fdr\") \n",
      "            tstats[pvals > p_th] = 0.\n",
      "            title = t_df[\"comparison\"].iloc[ix_] + estim_title\n",
      "            show_connectomes.plot_adjacency(tstats, n_clusters=1,\n",
      "                                            title=title,\n",
      "                                            vmin=None, vmax=None, col_map=\"red_blue_r\",\n",
      "                                            save_fig=\"/home/storage/workspace/parietal_retreat/covariance_learn/figures/\" +\n",
      "                                            title + \".pdf\")"
     ],
     "language": "python",
     "metadata": {},
     "outputs": [],
     "prompt_number": 2
    },
    {
     "cell_type": "code",
     "collapsed": false,
     "input": [
      "base_estimators = [EmpiricalCovariance(assume_centered=True),\n",
      "                   LedoitWolf(assume_centered=True)]\n",
      "estimators_ = list(itertools.product([\"tangent\", \"partial correlation\", \"correlation\"], base_estimators))\n",
      "est = ('kind', 'cov_estimator')\n",
      "estimators = [dict(zip(*[est, e])) for e in estimators_]\n",
      "t_test = list()\n",
      "for est_ in estimators:\n",
      "    t_test.append(classify_covs.statistical_test(root_dir=\"/home\", estimators=est_))\n",
      "    plot_results(t_test[-1], estim_title=est_[\"kind\"] + \" \" + format(est_[\"cov_estimator\"]).split(\"(\")[0])"
     ],
     "language": "python",
     "metadata": {},
     "outputs": [
      {
       "output_type": "stream",
       "stream": "stdout",
       "text": [
        "Objects vs. Words: t_stat = [ 1.01262977 -0.03622151  4.78076992 ..., -2.70433894 -1.39739997\n",
        "  1.90437795], p-val = [  3.16314457e-01   9.71255954e-01   1.69371873e-05 ...,   9.44107234e-03\n",
        "   1.68719410e-01   6.28636571e-02]\n",
        "Scrambled objects vs. Words: t_stat = [ 0.16138154  0.17587573  4.85386634 ..., -1.63863727 -1.41519123\n",
        "  0.01364503], p-val = [  8.72470266e-01   8.61131468e-01   1.32364845e-05 ...,   1.07828109e-01\n",
        "   1.63467833e-01   9.89169734e-01]"
       ]
      },
      {
       "output_type": "stream",
       "stream": "stdout",
       "text": [
        "\n",
        "Scrambled objects vs. Objects: t_stat = [-0.90459561  0.22588867 -0.66728505 ...,  1.09965172  0.47580914\n",
        " -3.99152438], p-val = [  3.70197698e-01   8.22247110e-01   5.07785518e-01 ...,   2.76968646e-01\n",
        "   6.36368819e-01   2.23934868e-04]"
       ]
      },
      {
       "output_type": "stream",
       "stream": "stdout",
       "text": [
        "\n",
        "Consonant strings vs. Words: t_stat = [-2.19767404 -0.13306555  0.6170434  ..., -0.85495434 -0.20602097\n",
        " -0.90297103], p-val = [ 0.03282959  0.89469783  0.54012216 ...,  0.39682375  0.83764587\n",
        "  0.37105056]"
       ]
      },
      {
       "output_type": "stream",
       "stream": "stdout",
       "text": [
        "\n",
        "Consonant strings vs. Objects: t_stat = [-3.8612438  -0.11738428 -4.13505053 ...,  1.29933223  1.80117468\n",
        " -5.62981256], p-val = [  3.37100487e-04   9.07045355e-01   1.41802851e-04 ...,   2.00036290e-01\n",
        "   7.79590043e-02   9.17140538e-07]"
       ]
      },
      {
       "output_type": "stream",
       "stream": "stdout",
       "text": [
        "\n",
        "Consonant strings vs. Scrambled objects: t_stat = [-2.15264849 -0.27943352 -2.78580428 ...,  0.4070072   1.02148434\n",
        " -1.7116267 ], p-val = [ 0.03640221  0.78111271  0.00762253 ...,  0.68581203  0.31214592\n",
        "  0.0934207 ]"
       ]
      },
      {
       "output_type": "stream",
       "stream": "stdout",
       "text": [
        "\n"
       ]
      },
      {
       "ename": "TypeError",
       "evalue": "plot_adjacency() got an unexpected keyword argument 'save_fig'",
       "output_type": "pyerr",
       "traceback": [
        "\u001b[1;31m---------------------------------------------------------------------------\u001b[0m\n\u001b[1;31mTypeError\u001b[0m                                 Traceback (most recent call last)",
        "\u001b[1;32m<ipython-input-3-80afa1765947>\u001b[0m in \u001b[0;36m<module>\u001b[1;34m()\u001b[0m\n\u001b[0;32m      7\u001b[0m \u001b[1;32mfor\u001b[0m \u001b[0mest_\u001b[0m \u001b[1;32min\u001b[0m \u001b[0mestimators\u001b[0m\u001b[1;33m:\u001b[0m\u001b[1;33m\u001b[0m\u001b[0m\n\u001b[0;32m      8\u001b[0m     \u001b[0mt_test\u001b[0m\u001b[1;33m.\u001b[0m\u001b[0mappend\u001b[0m\u001b[1;33m(\u001b[0m\u001b[0mclassify_covs\u001b[0m\u001b[1;33m.\u001b[0m\u001b[0mstatistical_test\u001b[0m\u001b[1;33m(\u001b[0m\u001b[0mroot_dir\u001b[0m\u001b[1;33m=\u001b[0m\u001b[1;34m\"/home\"\u001b[0m\u001b[1;33m,\u001b[0m \u001b[0mestimators\u001b[0m\u001b[1;33m=\u001b[0m\u001b[0mest_\u001b[0m\u001b[1;33m)\u001b[0m\u001b[1;33m)\u001b[0m\u001b[1;33m\u001b[0m\u001b[0m\n\u001b[1;32m----> 9\u001b[1;33m     \u001b[0mplot_results\u001b[0m\u001b[1;33m(\u001b[0m\u001b[0mt_test\u001b[0m\u001b[1;33m[\u001b[0m\u001b[1;33m-\u001b[0m\u001b[1;36m1\u001b[0m\u001b[1;33m]\u001b[0m\u001b[1;33m,\u001b[0m \u001b[0mestim_title\u001b[0m\u001b[1;33m=\u001b[0m\u001b[0mest_\u001b[0m\u001b[1;33m[\u001b[0m\u001b[1;34m\"kind\"\u001b[0m\u001b[1;33m]\u001b[0m \u001b[1;33m+\u001b[0m \u001b[1;34m\" \"\u001b[0m \u001b[1;33m+\u001b[0m \u001b[0mformat\u001b[0m\u001b[1;33m(\u001b[0m\u001b[0mest_\u001b[0m\u001b[1;33m[\u001b[0m\u001b[1;34m\"cov_estimator\"\u001b[0m\u001b[1;33m]\u001b[0m\u001b[1;33m)\u001b[0m\u001b[1;33m.\u001b[0m\u001b[0msplit\u001b[0m\u001b[1;33m(\u001b[0m\u001b[1;34m\"(\"\u001b[0m\u001b[1;33m)\u001b[0m\u001b[1;33m[\u001b[0m\u001b[1;36m0\u001b[0m\u001b[1;33m]\u001b[0m\u001b[1;33m)\u001b[0m\u001b[1;33m\u001b[0m\u001b[0m\n\u001b[0m",
        "\u001b[1;32m<ipython-input-2-e8ace5740548>\u001b[0m in \u001b[0;36mplot_results\u001b[1;34m(t_df, p_th, estim_title)\u001b[0m\n\u001b[0;32m     15\u001b[0m                                             \u001b[0mvmin\u001b[0m\u001b[1;33m=\u001b[0m\u001b[0mNone\u001b[0m\u001b[1;33m,\u001b[0m \u001b[0mvmax\u001b[0m\u001b[1;33m=\u001b[0m\u001b[0mNone\u001b[0m\u001b[1;33m,\u001b[0m \u001b[0mcol_map\u001b[0m\u001b[1;33m=\u001b[0m\u001b[1;34m\"red_blue_r\"\u001b[0m\u001b[1;33m,\u001b[0m\u001b[1;33m\u001b[0m\u001b[0m\n\u001b[0;32m     16\u001b[0m                                             \u001b[0msave_fig\u001b[0m\u001b[1;33m=\u001b[0m\u001b[1;34m\"/home/storage/workspace/parietal_retreat/covariance_learn/figures/\"\u001b[0m \u001b[1;33m+\u001b[0m\u001b[1;33m\u001b[0m\u001b[0m\n\u001b[1;32m---> 17\u001b[1;33m                                             title + \".pdf\")\n\u001b[0m",
        "\u001b[1;31mTypeError\u001b[0m: plot_adjacency() got an unexpected keyword argument 'save_fig'"
       ]
      }
     ],
     "prompt_number": 3
    }
   ],
   "metadata": {}
  }
 ]
}