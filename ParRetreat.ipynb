{
 "metadata": {
  "name": "",
  "signature": "sha256:446356e475d0cc2fd85b49b98042e27275a084d66269bbf63468c3488d42fb92"
 },
 "nbformat": 3,
 "nbformat_minor": 0,
 "worksheets": [
  {
   "cells": [
    {
     "cell_type": "code",
     "collapsed": false,
     "input": [
      "import classify_covs\n",
      "import show_connectomes\n",
      "import covariance\n",
      "import matplotlib.pyplot as plt\n",
      "from sklearn.covariance import EmpiricalCovariance, LedoitWolf\n",
      "import itertools\n",
      "#%matplotlib inline"
     ],
     "language": "python",
     "metadata": {},
     "outputs": []
    },
    {
     "cell_type": "code",
     "collapsed": false,
     "input": [
      "def plot_results(t_df, p_th=.05, estim_title=None):\n",
      "    # p-val at which to threshold\n",
      "    p_th = .05\n",
      "    if estim_title is not None:\n",
      "          estim_title = \" ({})\".format(estim_title)\n",
      "    for ix_ in range(len(t_df)):\n",
      "        tstats = covariance.vec_to_sym(t_df[\"tstat\"].iloc[ix_])\n",
      "        pvals = covariance.vec_to_sym(t_df[\"pval\"].iloc[ix_])\n",
      "        pvals = correct(pvals, fdr) \n",
      "        tstats[pvals > p_th] = 0.\n",
      "        title = t_df[\"comparison\"].iloc[ix_] + estim_title\n",
      "        show_connectomes.plot_adjacency(tstats, n_clusters=1,\n",
      "                                        title=title,\n",
      "                                        vmin=None, vmax=None, col_map=\"red_blue_r\",\n",
      "                                        save_fig=\"/home/storage/workspace/parietal_retreat/covariance_learn/figures/\" +\n",
      "                                        title + \".pdf\")"
     ],
     "language": "python",
     "metadata": {},
     "outputs": []
    },
    {
     "cell_type": "code",
     "collapsed": false,
     "input": [
      "base_estimators = [EmpiricalCovariance(assume_centered=True), LedoitWolf(assume_centered=True)]\n",
      "estimators_ = list(itertools.product([\"tangent\", \"partial correlation\", \"correlation\"], base_estimators))\n",
      "est = ('kind', 'base_estimator')\n",
      "estimators = [dict(zip(*[est, e])) for e in estimators_]\n",
      "t_test = list()\n",
      "for est_ in estimators:\n",
      "    t_test.append(classify_covs.statistical_test(root_dir=\"/home\", estimators=est_, verbose=0))\n",
      "    plot_results(t_test[-1], estim_title=est_[\"kind\"] + \" \" + format(est_[\"base_estimator\"]).split(\"(\")[0])"
     ],
     "language": "python",
     "metadata": {},
     "outputs": []
    }
   ],
   "metadata": {}
  }
 ]
}