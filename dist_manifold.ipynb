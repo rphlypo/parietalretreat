{
 "metadata": {
  "name": "",
  "signature": "sha256:2ed5c72b36546100e4406a506615e09feb2dedaf301a22d2a290d9053b473bfa"
 },
 "nbformat": 3,
 "nbformat_minor": 0,
 "worksheets": [
  {
   "cells": [
    {
     "cell_type": "markdown",
     "metadata": {},
     "source": [
      "For $P_1$ and $P_2$ symmetric matrices, the geodesic $P(t)$ such that $P(0) = P_1$ and $P(1) = P_2$ satisfies\n",
      "$$\\dot{P}(0) = P_1^{1/2} Log(P_1^{-1/2} P_2 P_1^{-1/2}) P_1^{1/2}$$\n",
      "and is thus given by \n",
      "$$ P(t) = P_1^{1/2} e^{t Log(P_1^{-1/2} P_2 P_1^{-1/2})} P_1^{1/2}$$\n"
     ]
    },
    {
     "cell_type": "markdown",
     "metadata": {},
     "source": [
      "It follows that $P(t)^{-1} \\dot{P}(t) = P_1^{-1/2} Log(P_1^{-1/2} P_2 P_1^{-1/2}) P_1^{1/2}$."
     ]
    },
    {
     "cell_type": "markdown",
     "metadata": {},
     "source": [
      "The length of the geodesic is given by equation (2.7) as\n",
      "$$ \\int_0^1 \\sqrt{Tr[Log(P_1^{-1/2} P_2 P_1^{-1/2})]^2} dt = \\| Log(P_1^{-1/2} P_2 P_1^{-1/2})\\|_I$$"
     ]
    },
    {
     "cell_type": "markdown",
     "metadata": {},
     "source": [
      "so that $$ d_{\\mathcal P(n)}(P_1,P_2) = \\sqrt{Tr[Log(P_1^{-1/2} P_2 P_1^{-1/2})]^2}.$$"
     ]
    },
    {
     "cell_type": "markdown",
     "metadata": {},
     "source": [
      "Write the diagonalization of the symmetric real matrix $P_1^{-1/2} P_2 P_1^{-1/2} $ as"
     ]
    },
    {
     "cell_type": "markdown",
     "metadata": {},
     "source": [
      "$$ P_1^{-1/2} P_2 P_1^{-1/2} = A^{-1} D A.$$"
     ]
    },
    {
     "cell_type": "markdown",
     "metadata": {},
     "source": [
      "Then  equation (2.4) leads to $$d_{\\mathcal P(n)}^2(P_1,P_2)  = Tr[A^{-1} Log(D)^2 A] = Tr[Log(D)^2]$$"
     ]
    },
    {
     "cell_type": "markdown",
     "metadata": {},
     "source": [
      "Again by equation (2.4) one has $$ Log(P_1^{-1} P_2) = P_1^{-1/2} Log(P_1^{-1/2} P_2 P_1^{-1/2}) P_1^{1/2}$$"
     ]
    },
    {
     "cell_type": "markdown",
     "metadata": {},
     "source": [
      "so finally $$d_{\\mathcal P(n)}(P_1,P_2) = \\|Log(P_1^{-1} P_2)\\|_{I} = \\sqrt{Tr[Log(D)^2]}.$$\n"
     ]
    },
    {
     "cell_type": "markdown",
     "metadata": {},
     "source": [
      "On the other hand, $$\\|Log(P_1^{-1} P_2)\\|^2_ F = Tr[P_1 Log(P_1^{-1/2} P_2 P_1^{-1/2}) P_1^{-1} Log(P_2^{1/2} P_1^{-1} P_2^{1/2})] .$$"
     ]
    },
    {
     "cell_type": "markdown",
     "metadata": {},
     "source": [
      "For general symmetric positive definite matrices $P_2$ and $W$ not commuting, $Tr(P_2 W P_2^{-1} W) \\ne Tr(W^2)$. For instance, if $W = \\left(\\begin{array}{cc} \n",
      "1 & 0 \\\\\n",
      "0 & 2 \\\\\n",
      "\\end{array}\\right)$ and $P_2 = \\left(\\begin{array}{cc} \n",
      "2 & 1 \\\\\n",
      "1 & 2 \\\\\n",
      "\\end{array}\\right)$, then $Tr(P_2 W P_2^{-1} W) = 16/3$ and $Tr(W^2) = 5$."
     ]
    }
   ],
   "metadata": {}
  }
 ]
}